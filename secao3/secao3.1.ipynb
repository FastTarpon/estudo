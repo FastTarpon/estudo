{
 "cells": [
  {
   "cell_type": "markdown",
   "metadata": {},
   "source": [
    "# 3.1.6   LAB   Variáveis\n",
    "\n",
    "## Usando um dos operadores de comparação em Python, escreva um programa simples de duas linhas que aceita o parâmetro n como entrada, que é um inteiro, e imprime False se n for menor 100, e True se n for maior ou igual a 100.\n",
    "\n",
    "## Não crie blocos if (falaremos sobre eles em breve). Teste seu código usando os dados que fornecemos para você. "
   ]
  },
  {
   "cell_type": "code",
   "execution_count": null,
   "metadata": {},
   "outputs": [
    {
     "name": "stdout",
     "output_type": "stream",
     "text": [
      "False\n"
     ]
    }
   ],
   "source": [
    "n = int(input(\"Digite um valor inteiro: \"))\n",
    "if n < 100: print(\"False\")\n",
    "elif n >= 100: print(\"True\")\n"
   ]
  },
  {
   "cell_type": "code",
   "execution_count": null,
   "metadata": {},
   "outputs": [
    {
     "name": "stdout",
     "output_type": "stream",
     "text": [
      "True\n"
     ]
    }
   ],
   "source": [
    "# Solução sugerida sem if:\n",
    "\n",
    "n = int(input(\"Digite um número: \")) \n",
    "print(n >= 100) \n"
   ]
  },
  {
   "cell_type": "markdown",
   "metadata": {},
   "source": [
    "# 3.1.8 Análise de amostras de código\n",
    "# Digite dois números e mostre o maior"
   ]
  },
  {
   "cell_type": "code",
   "execution_count": 13,
   "metadata": {},
   "outputs": [
    {
     "ename": "SystemExit",
     "evalue": "",
     "output_type": "error",
     "traceback": [
      "An exception has occurred, use %tb to see the full traceback.\n",
      "\u001b[31mSystemExit\u001b[39m\n"
     ]
    },
    {
     "name": "stderr",
     "output_type": "stream",
     "text": [
      "C:\\Users\\getul\\AppData\\Roaming\\Python\\Python313\\site-packages\\IPython\\core\\interactiveshell.py:3557: UserWarning: To exit: use 'exit', 'quit', or Ctrl-D.\n",
      "  warn(\"To exit: use 'exit', 'quit', or Ctrl-D.\", stacklevel=1)\n"
     ]
    }
   ],
   "source": [
    "# Corrigir erro se usuário digita <enter> e não digita um número\n",
    "import sys\n",
    "numero_entrada = input(\"Digite um número: \") \n",
    "if numero_entrada: numero1 = int(numero_entrada)\n",
    "else: (\"Entrada de dados inválida\")\n",
    "sys.exit()\n",
    "numero1 = int(input(\"Digite o primeiro número: \"))\n",
    "numero2 = int(input(\"Digite o segundo número: \"))\n",
    "if numero1 > numero2: print(\"O maior número é: \",numero1)\n",
    "elif numero1 == numero2: print(\"Os números são iguais!\")\n",
    "else: print(\"O maior número é: \",numero2)"
   ]
  },
  {
   "cell_type": "markdown",
   "metadata": {},
   "source": [
    "### 3.4.6   LAB   Básico de listas\n",
    "### Era uma vez um chapéu. O chapéu não continha coelhos, mas uma lista de cinco números: 1, 2, 3, 4 e 5. Sua tarefa:\n",
    "### Escreva uma linha de código que solicite que o usuário substitua o número do meio na lista por um número inteiro inserido pelo usuário (Etapa 1)\n",
    "### Escreva uma linha de código que remova o último elemento da lista (Etapa 2)\n",
    "### Escreva uma linha de código que imprima o comprimento da lista atual (Etapa 3)."
   ]
  },
  {
   "cell_type": "code",
   "execution_count": null,
   "metadata": {},
   "outputs": [
    {
     "name": "stdout",
     "output_type": "stream",
     "text": [
      "A lista inicialmente esta assim: [1, 2, 3, 4, 5]\n",
      "Número inserido:  8\n",
      "Posição do meio:  3\n",
      " A lista após a substituição no meio pelo número digitado ficará assim: [1, 2, 8, 4, 5]\n",
      " A última posição é:  5\n",
      "A lista após remover a última posição:  [1, 2, 8, 4]\n",
      "O tamanho atual da lista é:  4\n"
     ]
    }
   ],
   "source": [
    "# Resolução 1:\n",
    "\n",
    "lista = [1,2,3,4,5]\n",
    "print(\"A lista inicialmente esta assim:\",lista)\n",
    "num_meio = int(input(\"Digite o número do meio: \"))\n",
    "print(\"Número inserido: \",num_meio)\n",
    "posicao_meio = len(lista)// 2\n",
    "print(\"Posição do meio: \",posicao_meio+1)\n",
    "lista[posicao_meio] = num_meio\n",
    "print(\" A lista após a substituição no meio pelo número digitado ficará assim:\",lista)\n",
    "ultimo_pos = len(lista)\n",
    "lista.remove(ultimo_pos)\n",
    "print(\" A última posição é: \",ultimo_pos)\n",
    "print(\"A lista após remover a última posição: \",lista)\n",
    "print(\"O tamanho atual da lista é: \",len(lista))\n"
   ]
  },
  {
   "cell_type": "code",
   "execution_count": 83,
   "metadata": {},
   "outputs": [
    {
     "name": "stdout",
     "output_type": "stream",
     "text": [
      "A lista inicialmente esta assim: [1, 2, 3, 4, 5]\n",
      "Número inserido:  9\n",
      "Posição do meio:  2\n",
      " A lista após a substituição no meio pelo número digitado ficará assim: [1, 2, 3, 4, 5]\n",
      " A última posição é:  6\n",
      "A lista após remover a última posição:  [1, 2, 3, 4, 5]\n",
      "O tamanho atual da lista é:  5\n"
     ]
    }
   ],
   "source": [
    "# Corrigir código\n",
    "\n",
    "# Resolução 2:\n",
    "\n",
    "lista = [1,2,3,4,5]\n",
    "print(\"A lista inicialmente esta assim:\",lista)\n",
    "\n",
    "num_meio = int(input(\"Digite o número do meio: \"))\n",
    "print(\"Número inserido: \",num_meio)\n",
    "\n",
    "# Insere o valor digitado no meio da lista:\n",
    "# lista.insert(len(lista)//2, num_meio)\n",
    "\n",
    "# del lista[len(lista// 2)-1]\n",
    "# lista.pop(lista[len(lista// 2-1)])\n",
    "print(\"Posição do meio: \",(len(lista)// 2))\n",
    "print(\" A lista após a substituição no meio pelo número digitado ficará assim:\",lista)\n",
    "\n",
    "# ultimo_pos = len(lista)\n",
    "# lista.pop()\n",
    "             \n",
    "print(\" A última posição é: \",ultimo_pos)\n",
    "print(\"A lista após remover a última posição: \",lista)\n",
    "print(\"O tamanho atual da lista é: \",len(lista))"
   ]
  },
  {
   "cell_type": "code",
   "execution_count": null,
   "metadata": {},
   "outputs": [],
   "source": []
  }
 ],
 "metadata": {
  "kernelspec": {
   "display_name": "Python 3",
   "language": "python",
   "name": "python3"
  },
  "language_info": {
   "codemirror_mode": {
    "name": "ipython",
    "version": 3
   },
   "file_extension": ".py",
   "mimetype": "text/x-python",
   "name": "python",
   "nbconvert_exporter": "python",
   "pygments_lexer": "ipython3",
   "version": "3.13.2"
  }
 },
 "nbformat": 4,
 "nbformat_minor": 2
}
